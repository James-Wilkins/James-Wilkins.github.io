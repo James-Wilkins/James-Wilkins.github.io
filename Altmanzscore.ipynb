{
  "nbformat": 4,
  "nbformat_minor": 0,
  "metadata": {
    "colab": {
      "name": "Altmanzscore.ipynb",
      "provenance": []
    },
    "kernelspec": {
      "name": "python3",
      "display_name": "Python 3"
    },
    "language_info": {
      "name": "python"
    }
  },
  "cells": [
    {
      "cell_type": "code",
      "execution_count": 4,
      "metadata": {
        "colab": {
          "base_uri": "https://localhost:8080/"
        },
        "id": "xBH3NY2k_p8M",
        "outputId": "f7dca611-bd32-4346-da58-5b6de20729ee"
      },
      "outputs": [
        {
          "output_type": "stream",
          "name": "stdout",
          "text": [
            "Enter Working Capital:423423\n",
            "Enter Total Assets:24324\n",
            "Enter Retained Earnings:23432\n",
            "Enter EBIT:23523\n",
            "Enter Market Cap:2342\n",
            "Enter Total Liabilities:2432\n",
            "Enter Sales:234\n",
            "Altman Z Score\n",
            "26.016542393693904\n",
            "Likely Safe\n"
          ]
        }
      ],
      "source": [
        "import numpy\n",
        "import pandas as pd\n",
        "\n",
        "working_capital = input(\"Enter Working Capital:\")\n",
        "total_assets = input(\"Enter Total Assets:\")\n",
        "retained_earnings = input(\"Enter Retained Earnings:\")\n",
        "ebit = input(\"Enter EBIT:\")\n",
        "market_cap = input(\"Enter Market Cap:\")\n",
        "total_liabilities = input(\"Enter Total Liabilities:\")\n",
        "sales = input(\"Enter Sales:\")\n",
        "\n",
        "a = int(working_capital)/int(total_assets)\n",
        "b = int(retained_earnings)/int(total_assets)\n",
        "c = int(ebit)/int(total_assets)\n",
        "d = int(market_cap)/int(total_liabilities)\n",
        "e = int(sales)/int(total_assets)\n",
        "\n",
        "z = (1.2*a)+(1.4*b)+(3.3*c)+(0.6*d)+(0.999*e)\n",
        "\n",
        "print (\"Altman Z Score\")\n",
        "\n",
        "print (z)\n",
        "\n",
        "if z > 2.6:\n",
        "  print (\"Likely Safe\")\n",
        "if z > 1.1 and z < 2.6:\n",
        "  print (\"Cautionary\")\n",
        "if z < 1.1 and z >= 0:\n",
        "  print (\"Bankruptcy Likely\")\n",
        "if z < 0 :\n",
        "  print (\"Input Error! Please Try Again\")"
      ]
    }
  ]
}