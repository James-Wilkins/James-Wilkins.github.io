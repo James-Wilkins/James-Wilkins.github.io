import numpy as np
import pandas as pd
from sklearn import linear_model
from sklearn.preprocessing import PolynomialFeatures
from sklearn.pipeline import make_pipeline
from sklearn.linear_model import LinearRegression
from google.colab import drive 
import statsmodels.api as sm
from scipy import stats
drive.mount('/content/gdrive')


df = pd.read_csv('gdrive/My Drive/FactorsPre.csv')
df=df[~df.isin([np.nan, np.inf, -np.inf]).any(1)]

x = df[['Unemployment', 'Inflation','Interest Rates','Credit Spread','Industrial Production','Consumer Sentiment']]
y = df['SP500']

regr = linear_model.LinearRegression()
regr.fit(x, y)

print(regr.coef_)

x2 = sm.add_constant(x)
est = sm.OLS(y, x2)
est2 = est.fit()
print(est2.summary())
