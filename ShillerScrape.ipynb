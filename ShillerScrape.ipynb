import requests 
import pandas as pd
from google.colab import files


tables=pd.read_html('https://www.multpl.com/shiller-pe/table/by-month')
df=tables[0]
df.columns=['Date','Value']
df.sort_values(by='Date')
df.abs

df.to_csv('Shiller.csv')
files.download("Shiller.csv")
